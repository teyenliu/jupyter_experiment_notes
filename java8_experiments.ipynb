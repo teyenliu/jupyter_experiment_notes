{
 "cells": [
  {
   "cell_type": "code",
   "execution_count": 1,
   "metadata": {},
   "outputs": [],
   "source": [
    "%%loadFromPOM\n",
    "<dependency>\n",
    "    <groupId>org.knowm.xchart</groupId>\n",
    "    <artifactId>xchart</artifactId>\n",
    "    <version>3.5.2</version>\n",
    "</dependency>"
   ]
  },
  {
   "cell_type": "code",
   "execution_count": 2,
   "metadata": {},
   "outputs": [],
   "source": [
    "%maven org.knowm.xchart:xchart:3.5.2\n",
    "import org.knowm.xchart.*;"
   ]
  },
  {
   "cell_type": "code",
   "execution_count": 3,
   "metadata": {},
   "outputs": [],
   "source": [
    "double[] xData = new double[] { 0.0, 1.0, 2.0 };\n",
    "double[] yData = new double[] { 2.0, 1.0, 0.0 };\n",
    "\n",
    "XYChart chart = QuickChart.getChart(\"Sample Chart\", \"X\", \"Y\", \"y(x)\", xData, yData);"
   ]
  },
  {
   "cell_type": "code",
   "execution_count": 4,
   "metadata": {},
   "outputs": [
    {
     "data": {
      "image/png": "[encoded data removed]",
      "text/plain": [
       "BufferedImage@1ccb392c: type = 1 DirectColorModel: rmask=ff0000 gmask=ff00 bmask=ff amask=0 IntegerInterleavedRaster: width = 600 height = 400 #Bands = 3 xOff = 0 yOff = 0 dataOffset[0] 0"
      ]
     },
     "execution_count": 4,
     "metadata": {},
     "output_type": "execute_result"
    }
   ],
   "source": [
    "BitmapEncoder.getBufferedImage(chart);"
   ]
  },
  {
   "cell_type": "code",
   "execution_count": 9,
   "metadata": {},
   "outputs": [
    {
     "name": "stdout",
     "output_type": "stream",
     "text": [
      "Irene\n",
      "Justin\n",
      "Monica\n",
      "Irene\n",
      "Justin\n",
      "Monica\n",
      "Irene\n",
      "Justin\n",
      "Monica\n",
      "lambda, Irene\n",
      "lambda, Justin\n",
      "lambda, Monica\n"
     ]
    }
   ],
   "source": [
    "import java.util.*;\n",
    "public static void forEach(Iterable iterable) {\n",
    "    for(Object o : iterable) {\n",
    "        System.out.println(o);\n",
    "    }\n",
    "}\n",
    "List<String> names = Arrays.asList(\"Justin\", \"Monica\", \"Irene\");\n",
    "names.sort(String::compareTo);\n",
    "forEach(names);\n",
    "Collections.sort(names);\n",
    "forEach(new HashSet(names)); \n",
    "forEach(new ArrayDeque(names));\n",
    "// Use lambda feature\n",
    "names.forEach(name -> System.out.println(\"lambda, \" + name));"
   ]
  },
  {
   "cell_type": "code",
   "execution_count": 10,
   "metadata": {},
   "outputs": [],
   "source": [
    "%%loadFromPOM\n",
    "<dependency>\n",
    "    <groupId>com.google.collections</groupId>\n",
    "    <artifactId>google-collections</artifactId>\n",
    "    <version>1.0-rc2</version>\n",
    "</dependency>"
   ]
  },
  {
   "cell_type": "code",
   "execution_count": 23,
   "metadata": {},
   "outputs": [
    {
     "name": "stdout",
     "output_type": "stream",
     "text": [
      "XXXXX\n"
     ]
    }
   ],
   "source": [
    "import com.google.common.collect.ImmutableMap;\n",
    "Map<String, String> TYPES;\n",
    "\n",
    "ImmutableMap.Builder<String, String> builder = new ImmutableMap.Builder<>();\n",
    "builder.put(\"STI\",\"XXXXX\");\n",
    "builder.put(\"STJ\",\"YYYYY\");\n",
    "TYPES = builder.build();\n",
    "System.out.println(TYPES.get(\"STI\"));"
   ]
  },
  {
   "cell_type": "code",
   "execution_count": 5,
   "metadata": {},
   "outputs": [],
   "source": [
    "%%loadFromPOM\n",
    "<dependency>\n",
    "    <groupId>org.eclipse.osgi</groupId>\n",
    "    <artifactId>org.eclipse.osgi</artifactId>\n",
    "    <version>3.7.1</version>\n",
    "</dependency>"
   ]
  },
  {
   "cell_type": "code",
   "execution_count": 8,
   "metadata": {},
   "outputs": [],
   "source": [
    "import org.eclipse.osgi.util.NLS;\n",
    "\n",
    "@SuppressWarnings(\"javadoc\")\n",
    "public class Messages extends NLS {\n",
    "    private static final String BUNDLE_NAME = \"./messages.properties\";\n",
    "    public static String BtfTypeId_CDescr;\n",
    "    public static String BtfTypeId_CName;\n",
    "    public static String BtfTypeId_ECUDescr;\n",
    "    public static String BtfTypeId_ECUName;\n",
    "    public static String BtfTypeId_IBDescr;\n",
    "    public static String BtfTypeId_IBName;\n",
    "    public static String BtfTypeId_ISRDescr;\n",
    "    public static String BtfTypeId_ISRName;\n",
    "    public static String BtfTypeId_PDescr;\n",
    "    public static String BtfTypeId_PName;\n",
    "    public static String BtfTypeId_RDescr;\n",
    "    public static String BtfTypeId_RName;\n",
    "    public static String BtfTypeId_SCHEDDescr;\n",
    "    public static String BtfTypeId_SCHEDName;\n",
    "    public static String BtfTypeId_SEMDescr;\n",
    "    public static String BtfTypeId_SEMName;\n",
    "    public static String BtfTypeId_SIGDescr;\n",
    "    public static String BtfTypeId_SIGName;\n",
    "    public static String BtfTypeId_SIMDescr;\n",
    "    public static String BtfTypeId_SIMName;\n",
    "    public static String BtfTypeId_STIDescr;\n",
    "    public static String BtfTypeId_STIName;\n",
    "    public static String BtfTypeId_TDescr;\n",
    "    public static String BtfTypeId_TName;\n",
    "    public static String BTFPayload_Activate;\n",
    "    public static String BTFPayload_BoundedMigration;\n",
    "    public static String BTFPayload_EnforcedMigration;\n",
    "    public static String BTFPayload_FullMigration;\n",
    "    public static String BTFPayload_MapLimitExceeded;\n",
    "    public static String BTFPayload_Park;\n",
    "    public static String BTFPayload_PhaseMigration;\n",
    "    public static String BTFPayload_Poll;\n",
    "    public static String BTFPayload_PollParking;\n",
    "    public static String BTFPayload_Preempt;\n",
    "    public static String BTFPayload_Release;\n",
    "    public static String BTFPayload_ReleaseParking;\n",
    "    public static String BTFPayload_Resume;\n",
    "    public static String BTFPayload_Run;\n",
    "    public static String BTFPayload_Start;\n",
    "    public static String BTFPayload_Terminate;\n",
    "    public static String BTFPayload_Wait;\n",
    "    static {\n",
    "        // initialize resource bundle\n",
    "        NLS.initializeMessages(BUNDLE_NAME, Messages.class);\n",
    "    }\n",
    "\n",
    "    private Messages() {\n",
    "    }\n",
    "}"
   ]
  },
  {
   "cell_type": "code",
   "execution_count": 9,
   "metadata": {
    "scrolled": true
   },
   "outputs": [
    {
     "name": "stderr",
     "output_type": "stream",
     "text": [
      "Warning: NLS missing message: BtfTypeId_CDescr in: ./messages.properties\n",
      "Warning: NLS missing message: BtfTypeId_CName in: ./messages.properties\n",
      "Warning: NLS missing message: BtfTypeId_ECUDescr in: ./messages.properties\n",
      "Warning: NLS missing message: BtfTypeId_ECUName in: ./messages.properties\n",
      "Warning: NLS missing message: BtfTypeId_IBDescr in: ./messages.properties\n",
      "Warning: NLS missing message: BtfTypeId_IBName in: ./messages.properties\n",
      "Warning: NLS missing message: BtfTypeId_ISRDescr in: ./messages.properties\n",
      "Warning: NLS missing message: BtfTypeId_ISRName in: ./messages.properties\n",
      "Warning: NLS missing message: BtfTypeId_PDescr in: ./messages.properties\n",
      "Warning: NLS missing message: BtfTypeId_PName in: ./messages.properties\n",
      "Warning: NLS missing message: BtfTypeId_RDescr in: ./messages.properties\n",
      "Warning: NLS missing message: BtfTypeId_RName in: ./messages.properties\n",
      "Warning: NLS missing message: BtfTypeId_SCHEDDescr in: ./messages.properties\n",
      "Warning: NLS missing message: BtfTypeId_SCHEDName in: ./messages.properties\n",
      "Warning: NLS missing message: BtfTypeId_SEMDescr in: ./messages.properties\n",
      "Warning: NLS missing message: BtfTypeId_SEMName in: ./messages.properties\n",
      "Warning: NLS missing message: BtfTypeId_SIGDescr in: ./messages.properties\n",
      "Warning: NLS missing message: BtfTypeId_SIGName in: ./messages.properties\n",
      "Warning: NLS missing message: BtfTypeId_SIMDescr in: ./messages.properties\n",
      "Warning: NLS missing message: BtfTypeId_SIMName in: ./messages.properties\n",
      "Warning: NLS missing message: BtfTypeId_STIDescr in: ./messages.properties\n",
      "Warning: NLS missing message: BtfTypeId_STIName in: ./messages.properties\n",
      "Warning: NLS missing message: BtfTypeId_TDescr in: ./messages.properties\n",
      "Warning: NLS missing message: BtfTypeId_TName in: ./messages.properties\n",
      "Warning: NLS missing message: BTFPayload_Activate in: ./messages.properties\n",
      "Warning: NLS missing message: BTFPayload_BoundedMigration in: ./messages.properties\n",
      "Warning: NLS missing message: BTFPayload_EnforcedMigration in: ./messages.properties\n",
      "Warning: NLS missing message: BTFPayload_FullMigration in: ./messages.properties\n",
      "Warning: NLS missing message: BTFPayload_MapLimitExceeded in: ./messages.properties\n",
      "Warning: NLS missing message: BTFPayload_Park in: ./messages.properties\n",
      "Warning: NLS missing message: BTFPayload_PhaseMigration in: ./messages.properties\n",
      "Warning: NLS missing message: BTFPayload_Poll in: ./messages.properties\n",
      "Warning: NLS missing message: BTFPayload_PollParking in: ./messages.properties\n",
      "Warning: NLS missing message: BTFPayload_Preempt in: ./messages.properties\n",
      "Warning: NLS missing message: BTFPayload_Release in: ./messages.properties\n",
      "Warning: NLS missing message: BTFPayload_ReleaseParking in: ./messages.properties\n",
      "Warning: NLS missing message: BTFPayload_Resume in: ./messages.properties\n",
      "Warning: NLS missing message: BTFPayload_Run in: ./messages.properties\n",
      "Warning: NLS missing message: BTFPayload_Start in: ./messages.properties\n",
      "Warning: NLS missing message: BTFPayload_Terminate in: ./messages.properties\n",
      "Warning: NLS missing message: BTFPayload_Wait in: ./messages.properties\n"
     ]
    },
    {
     "name": "stdout",
     "output_type": "stream",
     "text": [
      "NLS missing message: BTFPayload_Activate in: ./messages.properties\n"
     ]
    }
   ],
   "source": [
    "System.out.println(Messages.BTFPayload_Activate)"
   ]
  },
  {
   "cell_type": "code",
   "execution_count": 36,
   "metadata": {},
   "outputs": [],
   "source": [
    "public class MyMessages extends NLS {\n",
    "private static final String BUNDLE_NAME = \"com.hedalixin\"; //$NON-NLS-1$\n",
    "public static String HELLO_WORLD;\n",
    "public static String HELLO_SOMETHING;\n",
    "static {\n",
    " // initialize resource bundles\n",
    "     NLS.initializeMessages(BUNDLE_NAME, MyMessages.class);\n",
    " }\n",
    "}"
   ]
  },
  {
   "cell_type": "code",
   "execution_count": 40,
   "metadata": {},
   "outputs": [
    {
     "name": "stderr",
     "output_type": "stream",
     "text": [
      "Warning: NLS missing message: HELLO_WORLD in: com.hedalixin\n",
      "Warning: NLS missing message: HELLO_SOMETHING in: com.hedalixin\n"
     ]
    },
    {
     "name": "stdout",
     "output_type": "stream",
     "text": [
      "Hello world!\n",
      "Hello world!\n"
     ]
    }
   ],
   "source": [
    "MyMessages.HELLO_WORLD=\"Hello world!\";\n",
    "MyMessages.HELLO_SOMETHING=\"Hello {0}!\";\n",
    "System.out.println(MyMessages.HELLO_WORLD);\n",
    "System.out.println(MyMessages.bind(MyMessages.HELLO_SOMETHING,\"world\"));"
   ]
  },
  {
   "cell_type": "code",
   "execution_count": 16,
   "metadata": {},
   "outputs": [
    {
     "name": "stdout",
     "output_type": "stream",
     "text": [
      "10 + 5 = 15\n",
      "10 - 5 = 5\n",
      "10 x 5 = 50\n",
      "10 / 5 = 2\n",
      "Hello Runoob\n",
      "Hello Google\n"
     ]
    }
   ],
   "source": [
    "interface MathOperation {\n",
    "   int operation(int a, int b);\n",
    "}\n",
    "private int operate(int a, int b, MathOperation mathOperation){\n",
    "   return mathOperation.operation(a, b);\n",
    "}\n",
    "// 类型声明\n",
    "MathOperation addition = (int a, int b) -> a + b;\n",
    "// 不用类型声明\n",
    "MathOperation subtraction = (a, b) -> a - b;\n",
    "// 大括号中的返回语句\n",
    "MathOperation multiplication = (int a, int b) -> { return a * b; };\n",
    "// 没有大括号及返回语句\n",
    "MathOperation division = (int a, int b) -> a / b;\n",
    "System.out.println(\"10 + 5 = \" + operate(10, 5, addition));\n",
    "System.out.println(\"10 - 5 = \" + operate(10, 5, subtraction));\n",
    "System.out.println(\"10 x 5 = \" + operate(10, 5, multiplication));\n",
    "System.out.println(\"10 / 5 = \" + operate(10, 5, division));\n",
    "\n",
    "interface GreetingService {\n",
    "   void sayMessage(String message);\n",
    "}\n",
    "// 不用括号\n",
    "GreetingService greetService1 = message ->\n",
    "System.out.println(\"Hello \" + message);\n",
    "        \n",
    "// 用括号\n",
    "GreetingService greetService2 = (message) ->\n",
    "System.out.println(\"Hello \" + message);\n",
    "        \n",
    "greetService1.sayMessage(\"Runoob\");\n",
    "greetService2.sayMessage(\"Google\");"
   ]
  },
  {
   "cell_type": "code",
   "execution_count": 4,
   "metadata": {},
   "outputs": [
    {
     "name": "stdout",
     "output_type": "stream",
     "text": [
      "run me!"
     ]
    }
   ],
   "source": [
    "Runnable runnbale = () -> System.out.println(\"run me!\");\n",
    "new Thread(runnbale).start();"
   ]
  },
  {
   "cell_type": "code",
   "execution_count": 1,
   "metadata": {},
   "outputs": [
    {
     "name": "stdout",
     "output_type": "stream",
     "text": [
      "\n",
      "hello thread"
     ]
    }
   ],
   "source": [
    "new Thread(() -> {\n",
    "    System.out.println(\"hello thread\");\n",
    "}).start();"
   ]
  },
  {
   "cell_type": "code",
   "execution_count": 5,
   "metadata": {},
   "outputs": [
    {
     "name": "stdout",
     "output_type": "stream",
     "text": [
      "Lambdas\n",
      "Default Method\n",
      "Stream API\n",
      "Date and Time API\n"
     ]
    }
   ],
   "source": [
    "List features = Arrays.asList(\"Lambdas\", \"Default Method\", \"Stream API\",\n",
    " \"Date and Time API\");\n",
    "features.forEach(n -> System.out.println(n));"
   ]
  },
  {
   "cell_type": "code",
   "execution_count": null,
   "metadata": {},
   "outputs": [],
   "source": [
    "List costBeforeTax = Arrays.asList(100, 200, 300, 400, 500);\n",
    "double bill = costBeforeTax.stream().map((cost) -> cost + .12*cost).reduce((sum, cost) -> sum + cost).get();\n",
    "System.out.println(\"Total : \" + bill);"
   ]
  },
  {
   "cell_type": "code",
   "execution_count": 10,
   "metadata": {},
   "outputs": [
    {
     "data": {
      "text/plain": [
       "java.util.stream.ReferencePipeline$Head@573f3e30"
      ]
     },
     "execution_count": 10,
     "metadata": {},
     "output_type": "execute_result"
    }
   ],
   "source": [
    "List costBeforeTax = Arrays.asList(100, 200, 300, 400, 500);\n",
    "costBeforeTax.stream().map()"
   ]
  },
  {
   "cell_type": "code",
   "execution_count": 18,
   "metadata": {},
   "outputs": [
    {
     "name": "stdout",
     "output_type": "stream",
     "text": [
      "[23, 12, 13]\n"
     ]
    }
   ],
   "source": [
    "public interface Filter<T> {\n",
    "    boolean f(T t);\n",
    "}\n",
    "public class Filters {\n",
    "    public static <T> List<T> filter(List<T> data, Filter<T> filter) {\n",
    "        List<T> result = new ArrayList<>();\n",
    "        for (T t : data) {\n",
    "            if (filter.f(t)) {\n",
    "                result.add(t);\n",
    "            }\n",
    "        }\n",
    "\n",
    "        return result;\n",
    "    }\n",
    "}\n",
    "List<Integer> ages = Arrays.asList(9, 10, 23, 7, 12, 1, 13, 8);\n",
    "List<Integer> result = Filters.filter(ages, data -> data > 10);\n",
    "// 输出: [23, 12, 13]\n",
    "System.out.println(result);"
   ]
  },
  {
   "cell_type": "code",
   "execution_count": 25,
   "metadata": {},
   "outputs": [
    {
     "name": "stdout",
     "output_type": "stream",
     "text": [
      "false\n",
      "true\n"
     ]
    }
   ],
   "source": [
    "// 用来生成一个空值的Optional\n",
    "Optional empty = Optional.empty();\n",
    "\n",
    "// 用来生成一个非空值的Optional\n",
    "Optional<String> notNull = Optional.of(\"optional\");\n",
    "\n",
    "// 可以根据传入的值生成空或非空的Optional\n",
    "Optional<String> nullValue = Optional.ofNullable(null);\n",
    "\n",
    "// 返回 false\n",
    "System.out.println(Optional.empty().isPresent());\n",
    "\n",
    "// 返回 true\n",
    "System.out.println(Optional.of(1).isPresent());"
   ]
  },
  {
   "cell_type": "code",
   "execution_count": 26,
   "metadata": {},
   "outputs": [
    {
     "name": "stdout",
     "output_type": "stream",
     "text": [
      "2a\n",
      "null\n"
     ]
    }
   ],
   "source": [
    "Map<Integer, String> map = new HashMap<>();\n",
    "map.put(1, \"a\");\n",
    "map.put(2, \"b\");\n",
    "map.put(3, \"c\");\n",
    "map.computeIfPresent(1, (key, value) -> (key + 1) + value);\n",
    "// 存在key为1， 则根据旧的key和value计算新的值，输出 2a\n",
    "System.out.println(map.get(1));\n",
    "\n",
    "map.computeIfPresent(2, (key, value) -> null);\n",
    "// 存在key为2， 根据旧的key和value计算得到null，删除该值，输出 null\n",
    "System.out.println(map.get(2));"
   ]
  },
  {
   "cell_type": "code",
   "execution_count": 35,
   "metadata": {},
   "outputs": [
    {
     "name": "stdout",
     "output_type": "stream",
     "text": [
      "2=0.02777553\n",
      "3=0.05555699000000001\n",
      "4=0.08336873\n",
      "5=0.11110843\n",
      "6=0.13898683\n",
      "7=0.16664899000000005\n",
      "8=0.13883702\n",
      "9=0.1111044\n",
      "10=0.08333619\n",
      "11=0.05551079\n",
      "12=0.027766100000000002\n"
     ]
    }
   ],
   "source": [
    "import java.util.stream.*;\n",
    "\n",
    "public class MonteCarloMethodStream {\n",
    "    public void loop(long count) {\n",
    "        double data = 1.0 / count;\n",
    "        LongStream.range(0, count).parallel()\n",
    "                .mapToObj(origin -> random())\n",
    "                .collect(Collectors.groupingBy(origin -> origin, Collectors.summingDouble(origin -> data)))\n",
    "                .entrySet().forEach(System.out::println);\n",
    "    }\n",
    "\n",
    "    /**\n",
    "     * 获取2个随机1到6的数字之和\n",
    "     *\n",
    "     * @return 随机数之和\n",
    "     */\n",
    "    private int random() {\n",
    "        ThreadLocalRandom random = ThreadLocalRandom.current();\n",
    "        int first = random.nextInt(1, 7);\n",
    "        int second = random.nextInt(1, 7);\n",
    "        return first + second;\n",
    "    }\n",
    "}\n",
    "new MonteCarloMethodStream().loop(100000000L);"
   ]
  },
  {
   "cell_type": "code",
   "execution_count": 1,
   "metadata": {},
   "outputs": [
    {
     "name": "stdout",
     "output_type": "stream",
     "text": [
      "[2, 3, 1, 0, 5]\n",
      "[2, 5, 1, 0, 5]\n",
      "[2, 5, 6, 0, 5]\n",
      "[2, 5, 6, 6, 5]\n",
      "[2, 5, 6, 6, 11]\n"
     ]
    }
   ],
   "source": [
    "int[] array = new int[]{2, 3, 1, 0, 5};\n",
    "// [2, 3, 1, 0, 5]\n",
    "// [2, 5, 1, 0, 5]\n",
    "// [2, 5, 6, 0, 5]\n",
    "// [2, 5, 6, 6, 5]\n",
    "Arrays.parallelPrefix(array, (left, right) ->{\n",
    "    System.out.println(Arrays.toString(array));\n",
    "    return left + right;\n",
    "});\n",
    "\n",
    "// 输出 [2, 5, 6, 6, 11]\n",
    "System.out.println(Arrays.toString(array));\n"
   ]
  },
  {
   "cell_type": "code",
   "execution_count": 3,
   "metadata": {},
   "outputs": [
    {
     "name": "stdout",
     "output_type": "stream",
     "text": [
      "[0, 10, 20, 30, 40, 50, 60, 70, 80, 90]\n",
      "[[I@6fd8e06b]\n"
     ]
    }
   ],
   "source": [
    "int[] array = new int[10];\n",
    "Arrays.setAll(array, i -> i * 10);\n",
    "// 输出 [0, 10, 20, 30, 40, 50, 60, 70, 80, 90]\n",
    "System.out.println(Arrays.toString(array));\n",
    "System.out.println((new HashSet(Arrays.asList(array))).toString());"
   ]
  },
  {
   "cell_type": "code",
   "execution_count": 10,
   "metadata": {},
   "outputs": [],
   "source": [
    "List<String> nameLt = List.of(\"danny\", \"John\");"
   ]
  },
  {
   "cell_type": "code",
   "execution_count": null,
   "metadata": {},
   "outputs": [],
   "source": []
  }
 ],
 "metadata": {
  "kernelspec": {
   "display_name": "Java",
   "language": "java",
   "name": "java"
  },
  "language_info": {
   "codemirror_mode": "java",
   "file_extension": ".jshell",
   "mimetype": "text/x-java-source",
   "name": "Java",
   "pygments_lexer": "java",
   "version": "11.0.3+7"
  }
 },
 "nbformat": 4,
 "nbformat_minor": 2
}
