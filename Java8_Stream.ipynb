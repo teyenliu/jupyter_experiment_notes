{
 "cells": [
  {
   "cell_type": "code",
   "execution_count": 9,
   "metadata": {},
   "outputs": [
    {
     "name": "stdout",
     "output_type": "stream",
     "text": [
      "String[]\n",
      "a\n",
      "b\n",
      "c\n",
      "ArrayList\n",
      "a\n",
      "b\n",
      "c\n"
     ]
    }
   ],
   "source": [
    "import java.util.stream.*;\n",
    "\n",
    "// 1. Individual values\n",
    "Stream stream = Stream.of(\"a\", \"b\", \"c\");\n",
    "// 2. Arrays\n",
    "String [] strArray = new String[] {\"a\", \"b\", \"c\"};\n",
    "System.out.println(strArray.getClass().getSimpleName());\n",
    "stream = Stream.of(strArray);\n",
    "stream = Arrays.stream(strArray);\n",
    "stream.forEach(System.out::println);\n",
    "// 3. Collections (ArrayList)\n",
    "List<String> list = Arrays.asList(strArray);\n",
    "System.out.println(list.getClass().getSimpleName());\n",
    "list.stream().forEach(System.out::println);"
   ]
  },
  {
   "cell_type": "code",
   "execution_count": 20,
   "metadata": {},
   "outputs": [
    {
     "name": "stdout",
     "output_type": "stream",
     "text": [
      "1\n",
      "2\n",
      "3\n",
      "1\n",
      "2\n",
      "1\n",
      "2\n",
      "3\n"
     ]
    }
   ],
   "source": [
    "//數值流的構造\n",
    "IntStream.of(new int[]{1, 2, 3}).forEach(System.out::println);\n",
    "IntStream.range(1, 3).forEach(System.out::println);\n",
    "IntStream.rangeClosed(1, 3).forEach(System.out::println);"
   ]
  },
  {
   "cell_type": "code",
   "execution_count": 19,
   "metadata": {},
   "outputs": [
    {
     "name": "stdout",
     "output_type": "stream",
     "text": [
      "AAA\n",
      "BBBB\n",
      "CCC\n",
      "DDD\n",
      "EE\n"
     ]
    }
   ],
   "source": [
    "//轉換大寫\n",
    "String [] wordArr = new String[] {\"aaa\", \"bbbb\", \"ccc\", \"ddd\", \"ee\"};\n",
    "List<String> wordlist = Arrays.asList(wordArr);\n",
    "List<String> output = wordlist.stream().map(String::toUpperCase).collect(Collectors.toList());\n",
    "output.forEach(System.out::println);"
   ]
  },
  {
   "cell_type": "code",
   "execution_count": 33,
   "metadata": {},
   "outputs": [
    {
     "name": "stdout",
     "output_type": "stream",
     "text": [
      "1\n",
      "4\n",
      "9\n",
      "16\n"
     ]
    }
   ],
   "source": [
    "//平方數\n",
    "List<Integer> nums = Arrays.asList(1, 2, 3, 4);\n",
    "List<Integer> squareNums = nums.stream().\n",
    "map(n -> n * n).\n",
    "collect(Collectors.toList());\n",
    "squareNums.forEach(System.out::println);"
   ]
  },
  {
   "cell_type": "code",
   "execution_count": 30,
   "metadata": {},
   "outputs": [
    {
     "name": "stdout",
     "output_type": "stream",
     "text": [
      "1\n",
      "2\n",
      "3\n",
      "4\n",
      "5\n",
      "6\n"
     ]
    }
   ],
   "source": [
    "//一對多\n",
    "Stream<List<Integer>> inputStream = Stream.of(\n",
    " Arrays.asList(1),\n",
    " Arrays.asList(2, 3),\n",
    " Arrays.asList(4, 5, 6)\n",
    " );\n",
    "Stream<Integer> outputStream = inputStream.\n",
    "flatMap((childList) -> childList.stream());\n",
    "outputStream.forEach(System.out::println);"
   ]
  },
  {
   "cell_type": "code",
   "execution_count": 37,
   "metadata": {},
   "outputs": [
    {
     "name": "stdout",
     "output_type": "stream",
     "text": [
      "2\n",
      "4\n",
      "6\n"
     ]
    }
   ],
   "source": [
    "//留下偶數\n",
    "Integer[] sixNums = {1, 2, 3, 4, 5, 6};\n",
    "Integer[] evens =\n",
    "Stream.of(sixNums).filter(n -> n%2 == 0).toArray(Integer[]::new);\n",
    "Arrays.asList(evens).forEach(System.out::println);"
   ]
  },
  {
   "cell_type": "code",
   "execution_count": 62,
   "metadata": {},
   "outputs": [
    {
     "name": "stdout",
     "output_type": "stream",
     "text": [
      "a\n"
     ]
    }
   ],
   "source": [
    "//Stream + String[] + flatMap\n",
    "\n",
    "String[][] data = new String[][]{{\"a\", \"b\"}, {\"c\", \"d\"}, {\"e\", \"f\"}};\n",
    "Stream<String[]> temp = Arrays.stream(data);\n",
    "Stream<String> stringStream = temp.flatMap(x -> Arrays.stream(x)).filter(x -> \"a\".equals(x.toString()));\n",
    "stringStream.forEach(System.out::println);"
   ]
  },
  {
   "cell_type": "code",
   "execution_count": 84,
   "metadata": {},
   "outputs": [
    {
     "name": "stdout",
     "output_type": "stream",
     "text": [
      "Spring Boot in Action\n",
      "Effective Java (2nd Edition)\n",
      "Java 8 in Action\n",
      "Learning Python, 5th Edition\n"
     ]
    }
   ],
   "source": [
    "//Stream + Set + flatMap\n",
    "\n",
    "public class Student {\n",
    "\n",
    "    private String name;\n",
    "    private Set<String> book;\n",
    "\n",
    "    public void addBook(String book) {\n",
    "        if (this.book == null) {\n",
    "            this.book = new HashSet<>();\n",
    "        }\n",
    "        this.book.add(book);\n",
    "    }\n",
    "    //getters and setters\n",
    "    public void setName(String name) {\n",
    "        this.name = name;\n",
    "    }\n",
    "    public String getName() {\n",
    "        return this.name;\n",
    "    }\n",
    "    public Set<String> getBook() {\n",
    "        return this.book;\n",
    "    }\n",
    "}\n",
    "\n",
    "Student obj1 = new Student();\n",
    "obj1.setName(\"mkyong\");\n",
    "obj1.addBook(\"Java 8 in Action\");\n",
    "obj1.addBook(\"Spring Boot in Action\");\n",
    "obj1.addBook(\"Effective Java (2nd Edition)\");\n",
    "\n",
    "Student obj2 = new Student();\n",
    "obj2.setName(\"zilap\");\n",
    "obj2.addBook(\"Learning Python, 5th Edition\");\n",
    "obj2.addBook(\"Effective Java (2nd Edition)\");\n",
    "\n",
    "List<Student> list = new ArrayList<>();\n",
    "list.add(obj1);\n",
    "list.add(obj2);\n",
    "\n",
    "List<String> collect =\n",
    "                list.stream()\n",
    "                .map(x -> x.getBook())      //Stream<Set<String>>\n",
    "                .flatMap(x -> x.stream())   //Stream<String>\n",
    "                .distinct()\n",
    "                .collect(Collectors.toList());\n",
    "\n",
    "collect.forEach(x -> System.out.println(x));"
   ]
  },
  {
   "cell_type": "code",
   "execution_count": 85,
   "metadata": {},
   "outputs": [
    {
     "name": "stdout",
     "output_type": "stream",
     "text": [
      "mkyong\n",
      "zilap\n"
     ]
    }
   ],
   "source": [
    "//Stream + sorted\n",
    "\n",
    "Student obj1 = new Student();\n",
    "obj1.setName(\"mkyong\");\n",
    "obj1.addBook(\"Java 8 in Action\");\n",
    "obj1.addBook(\"Spring Boot in Action\");\n",
    "obj1.addBook(\"Effective Java (2nd Edition)\");\n",
    "\n",
    "Student obj2 = new Student();\n",
    "obj2.setName(\"zilap\");\n",
    "obj2.addBook(\"Learning Python, 5th Edition\");\n",
    "obj2.addBook(\"Effective Java (2nd Edition)\");\n",
    "\n",
    "List<Student> list = new ArrayList<>();\n",
    "list.add(obj1);\n",
    "list.add(obj2);\n",
    "\n",
    "List<String> collect =\n",
    "                list.stream()\n",
    "                .sorted((p1, p2) -> p1.getName().compareTo(p2.getName())) // sorted by name\n",
    "                .map(x -> x.getName())      //Stream<String>\n",
    "                .collect(Collectors.toList());\n",
    "\n",
    "collect.forEach(x -> System.out.println(x));"
   ]
  },
  {
   "cell_type": "code",
   "execution_count": 70,
   "metadata": {},
   "outputs": [
    {
     "name": "stdout",
     "output_type": "stream",
     "text": [
      "1\n",
      "2\n",
      "3\n"
     ]
    }
   ],
   "source": [
    "//Stream + Primitive + flatMapToInt\n",
    "\n",
    "int[] intArray = {1, 2, 3, 4, 5, 6};\n",
    "\n",
    "//1. Stream<int[]>\n",
    "Stream<int[]> streamArray = Stream.of(intArray);\n",
    "\n",
    "//2. Stream<int[]> -> flatMap -> IntStream\n",
    "IntStream intStream = streamArray.flatMapToInt(x -> Arrays.stream(x));\n",
    "\n",
    "intStream.limit(3).forEach(x -> System.out.println(x));"
   ]
  },
  {
   "cell_type": "code",
   "execution_count": 80,
   "metadata": {},
   "outputs": [
    {
     "name": "stdout",
     "output_type": "stream",
     "text": [
      "-3.0\n"
     ]
    }
   ],
   "source": [
    "//reduce \n",
    "// 字符串连接，concat = \"ABCD\"\n",
    "String concat = Stream.of(\"A\", \"B\", \"C\", \"D\").reduce(\"\", String::concat); \n",
    "// 求最小值，minValue = -3.0\n",
    "double minValue = Stream.of(-1.5, 1.0, -3.0, -2.0).reduce(Double.MIN_VALUE, Double::min); \n",
    "System.out.println(minValue);\n",
    "// 求和，sumValue = 10, 有起始值\n",
    "int sumValue = Stream.of(1, 2, 3, 4).reduce(0, Integer::sum);\n",
    "// 求和，sumValue = 10, 无起始值\n",
    "sumValue = Stream.of(1, 2, 3, 4).reduce(Integer::sum).get();\n",
    "// 过滤，字符串连接，concat = \"ace\"\n",
    "concat = Stream.of(\"a\", \"B\", \"c\", \"D\", \"e\", \"F\").\n",
    " filter(x -> x.compareTo(\"Z\") > 0).\n",
    " reduce(\"\", String::concat);"
   ]
  },
  {
   "cell_type": "code",
   "execution_count": 5,
   "metadata": {},
   "outputs": [
    {
     "name": "stdout",
     "output_type": "stream",
     "text": [
      "3:something\n"
     ]
    }
   ],
   "source": [
    "import java.util.stream.*;\n",
    "Map<Integer, String> map = new HashMap<>();\n",
    "    map.put(1, \"linode.com\");\n",
    "    map.put(2, \"heroku.com\");\n",
    "    map.put(3, \"something\");\n",
    "\n",
    "    //Map -> Stream -> Filter -> String\n",
    " String result = map.entrySet().stream()\n",
    "    .filter(x -> \"something\".equals(x.getValue()))\n",
    "    .map(x->x.getValue())\n",
    "    .collect(Collectors.joining());\n",
    "\n",
    "//Map -> Stream -> Filter -> MAP\n",
    "Map<Integer, String> collect = map.entrySet().stream()\n",
    ".filter(x -> x.getKey() == 2)\n",
    ".collect(Collectors.toMap(x -> x.getKey(), x -> x.getValue()));\n",
    "\n",
    "// or like this\n",
    "Map<Integer, String> collect = map.entrySet().stream()\n",
    ".filter(x -> x.getKey() == 3)\n",
    ".collect(Collectors.toMap(Map.Entry::getKey, Map.Entry::getValue));\n",
    "collect.forEach((k, v) -> System.out.println(k + \":\" + v));"
   ]
  },
  {
   "cell_type": "code",
   "execution_count": 7,
   "metadata": {},
   "outputs": [
    {
     "name": "stdout",
     "output_type": "stream",
     "text": [
      "[4, 5, 6]\n"
     ]
    }
   ],
   "source": [
    "List<Integer> list = Arrays.asList(1, 2, 3, 4, 5, 6);\n",
    "\n",
    "List<Integer> result = list.stream()\n",
    "        .filter(e -> e > 3)\n",
    "        .collect(() -> new ArrayList<>(), // supplier\n",
    "                    (c, e) -> c.add(e),         // accumulator\n",
    "                    (c1, c2) -> c1.addAll(c2)); // combiner\n",
    "\n",
    "\n",
    "System.out.println(result); // [4, 5, 6]"
   ]
  },
  {
   "cell_type": "code",
   "execution_count": 8,
   "metadata": {},
   "outputs": [],
   "source": [
    "%%loadFromPOM\n",
    "<dependency>\n",
    "    <groupId>com.fasterxml.jackson.core</groupId>\n",
    "    <artifactId>jackson-databind</artifactId>\n",
    "    <version>2.9.8</version>\n",
    "</dependency>\n"
   ]
  },
  {
   "cell_type": "code",
   "execution_count": 10,
   "metadata": {},
   "outputs": [
    {
     "name": "stdout",
     "output_type": "stream",
     "text": [
      "today:2019-10-03\n",
      "year:2019\n",
      "month:10\n",
      "date:3\n",
      "day-of-year:276\n",
      "day-of-month:3\n",
      "day-of-week:THURSDAY\n",
      "day-of-week:4\n",
      "2019-10-02\n",
      "2019-09-26\n",
      "2019-09-03\n",
      "2018-10-03\n",
      "2019-10-04\n",
      "2019-10-10\n",
      "2019-11-03\n",
      "2020-10-03\n"
     ]
    }
   ],
   "source": [
    "import java.time.LocalDate\n",
    "LocalDate d = LocalDate.now(); // 取得今日\n",
    "\n",
    "System.out.println(\"today:\" + d.toString());      // today:2019-02-11\n",
    "System.out.println(\"year:\"  + d.getYear());       // year:2019 (年)\n",
    "System.out.println(\"month:\" + d.getMonthValue()); // month:2 (月)\n",
    "System.out.println(\"date:\"  + d.getDayOfMonth()); // date:11 (日)\n",
    "\n",
    "System.out.println(\"day-of-year:\"  + d.getDayOfYear());            // day-of-year:42 (2019年的第42天)\n",
    "System.out.println(\"day-of-month:\" + d.getDayOfMonth());           // day-of-month:11 (2019年2月的第11天)\n",
    "System.out.println(\"day-of-week:\"  + d.getDayOfWeek().name());     // day-of-week:MONDAY (星期一)\n",
    "System.out.println(\"day-of-week:\"  + d.getDayOfWeek().getValue()); // day-of-week:1 (這禮拜的第1天)\n",
    "\n",
    "System.out.println(d.minusDays(1L));   // 2019-02-10（減一天）\n",
    "System.out.println(d.minusWeeks(1L));  // 2019-02-04（減一周）\n",
    "System.out.println(d.minusMonths(1L)); // 2019-01-11（減一月）\n",
    "System.out.println(d.minusYears(1L));  // 2018-02-11（減一年）\n",
    "\n",
    "System.out.println(d.plusDays(1L));    // 2019-02-12（加一天）\n",
    "System.out.println(d.plusWeeks(1L));   // 2019-02-18（加一周）\n",
    "System.out.println(d.plusMonths(1L));  // 2019-03-11（加一月）\n",
    "System.out.println(d.plusYears(1L));   // 2020-02-11（加一年）"
   ]
  },
  {
   "cell_type": "code",
   "execution_count": 18,
   "metadata": {},
   "outputs": [
    {
     "name": "stdout",
     "output_type": "stream",
     "text": [
      "11\n",
      "11\n"
     ]
    },
    {
     "data": {
      "text/plain": [
       "NLLL"
      ]
     },
     "execution_count": 18,
     "metadata": {},
     "output_type": "execute_result"
    }
   ],
   "source": [
    "String s = \"hello world\";\n",
    "\n",
    "// map\n",
    "Optional.of(s)\n",
    "    .map(e -> e.length())\n",
    "    .ifPresent(System.out::println);\n",
    "\n",
    "// flapMap\n",
    "Optional.of(s)\n",
    "    .flatMap(e -> Optional.ofNullable(e.length()))\n",
    "    .ifPresent(System.out::println);\n",
    "\n",
    "Optional.ofNullable(null).orElse(\"NLLL\");"
   ]
  },
  {
   "cell_type": "code",
   "execution_count": null,
   "metadata": {},
   "outputs": [],
   "source": []
  }
 ],
 "metadata": {
  "kernelspec": {
   "display_name": "Java",
   "language": "java",
   "name": "java"
  },
  "language_info": {
   "codemirror_mode": "java",
   "file_extension": ".jshell",
   "mimetype": "text/x-java-source",
   "name": "Java",
   "pygments_lexer": "java",
   "version": "11.0.3+7"
  }
 },
 "nbformat": 4,
 "nbformat_minor": 2
}
