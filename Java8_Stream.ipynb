{
 "cells": [
  {
   "cell_type": "code",
   "execution_count": 9,
   "metadata": {},
   "outputs": [
    {
     "name": "stdout",
     "output_type": "stream",
     "text": [
      "String[]\n",
      "a\n",
      "b\n",
      "c\n",
      "ArrayList\n",
      "a\n",
      "b\n",
      "c\n"
     ]
    }
   ],
   "source": [
    "import java.util.stream.*;\n",
    "\n",
    "// 1. Individual values\n",
    "Stream stream = Stream.of(\"a\", \"b\", \"c\");\n",
    "// 2. Arrays\n",
    "String [] strArray = new String[] {\"a\", \"b\", \"c\"};\n",
    "System.out.println(strArray.getClass().getSimpleName());\n",
    "stream = Stream.of(strArray);\n",
    "stream = Arrays.stream(strArray);\n",
    "stream.forEach(System.out::println);\n",
    "// 3. Collections (ArrayList)\n",
    "List<String> list = Arrays.asList(strArray);\n",
    "System.out.println(list.getClass().getSimpleName());\n",
    "list.stream().forEach(System.out::println);"
   ]
  },
  {
   "cell_type": "code",
   "execution_count": 20,
   "metadata": {},
   "outputs": [
    {
     "name": "stdout",
     "output_type": "stream",
     "text": [
      "1\n",
      "2\n",
      "3\n",
      "1\n",
      "2\n",
      "1\n",
      "2\n",
      "3\n"
     ]
    }
   ],
   "source": [
    "//數值流的構造\n",
    "IntStream.of(new int[]{1, 2, 3}).forEach(System.out::println);\n",
    "IntStream.range(1, 3).forEach(System.out::println);\n",
    "IntStream.rangeClosed(1, 3).forEach(System.out::println);"
   ]
  },
  {
   "cell_type": "code",
   "execution_count": 19,
   "metadata": {},
   "outputs": [
    {
     "name": "stdout",
     "output_type": "stream",
     "text": [
      "AAA\n",
      "BBBB\n",
      "CCC\n",
      "DDD\n",
      "EE\n"
     ]
    }
   ],
   "source": [
    "//轉換大寫\n",
    "String [] wordArr = new String[] {\"aaa\", \"bbbb\", \"ccc\", \"ddd\", \"ee\"};\n",
    "List<String> wordlist = Arrays.asList(wordArr);\n",
    "List<String> output = wordlist.stream().map(String::toUpperCase).collect(Collectors.toList());\n",
    "output.forEach(System.out::println);"
   ]
  },
  {
   "cell_type": "code",
   "execution_count": 33,
   "metadata": {},
   "outputs": [
    {
     "name": "stdout",
     "output_type": "stream",
     "text": [
      "1\n",
      "4\n",
      "9\n",
      "16\n"
     ]
    }
   ],
   "source": [
    "//平方數\n",
    "List<Integer> nums = Arrays.asList(1, 2, 3, 4);\n",
    "List<Integer> squareNums = nums.stream().\n",
    "map(n -> n * n).\n",
    "collect(Collectors.toList());\n",
    "squareNums.forEach(System.out::println);"
   ]
  },
  {
   "cell_type": "code",
   "execution_count": 30,
   "metadata": {},
   "outputs": [
    {
     "name": "stdout",
     "output_type": "stream",
     "text": [
      "1\n",
      "2\n",
      "3\n",
      "4\n",
      "5\n",
      "6\n"
     ]
    }
   ],
   "source": [
    "//一對多\n",
    "Stream<List<Integer>> inputStream = Stream.of(\n",
    " Arrays.asList(1),\n",
    " Arrays.asList(2, 3),\n",
    " Arrays.asList(4, 5, 6)\n",
    " );\n",
    "Stream<Integer> outputStream = inputStream.\n",
    "flatMap((childList) -> childList.stream());\n",
    "outputStream.forEach(System.out::println);"
   ]
  },
  {
   "cell_type": "code",
   "execution_count": 37,
   "metadata": {},
   "outputs": [
    {
     "name": "stdout",
     "output_type": "stream",
     "text": [
      "2\n",
      "4\n",
      "6\n"
     ]
    }
   ],
   "source": [
    "//留下偶數\n",
    "Integer[] sixNums = {1, 2, 3, 4, 5, 6};\n",
    "Integer[] evens =\n",
    "Stream.of(sixNums).filter(n -> n%2 == 0).toArray(Integer[]::new);\n",
    "Arrays.asList(evens).forEach(System.out::println);"
   ]
  },
  {
   "cell_type": "code",
   "execution_count": 62,
   "metadata": {},
   "outputs": [
    {
     "name": "stdout",
     "output_type": "stream",
     "text": [
      "a\n"
     ]
    }
   ],
   "source": [
    "//Stream + String[] + flatMap\n",
    "\n",
    "String[][] data = new String[][]{{\"a\", \"b\"}, {\"c\", \"d\"}, {\"e\", \"f\"}};\n",
    "Stream<String[]> temp = Arrays.stream(data);\n",
    "Stream<String> stringStream = temp.flatMap(x -> Arrays.stream(x)).filter(x -> \"a\".equals(x.toString()));\n",
    "stringStream.forEach(System.out::println);"
   ]
  },
  {
   "cell_type": "code",
   "execution_count": 84,
   "metadata": {},
   "outputs": [
    {
     "name": "stdout",
     "output_type": "stream",
     "text": [
      "Spring Boot in Action\n",
      "Effective Java (2nd Edition)\n",
      "Java 8 in Action\n",
      "Learning Python, 5th Edition\n"
     ]
    }
   ],
   "source": [
    "//Stream + Set + flatMap\n",
    "\n",
    "public class Student {\n",
    "\n",
    "    private String name;\n",
    "    private Set<String> book;\n",
    "\n",
    "    public void addBook(String book) {\n",
    "        if (this.book == null) {\n",
    "            this.book = new HashSet<>();\n",
    "        }\n",
    "        this.book.add(book);\n",
    "    }\n",
    "    //getters and setters\n",
    "    public void setName(String name) {\n",
    "        this.name = name;\n",
    "    }\n",
    "    public String getName() {\n",
    "        return this.name;\n",
    "    }\n",
    "    public Set<String> getBook() {\n",
    "        return this.book;\n",
    "    }\n",
    "}\n",
    "\n",
    "Student obj1 = new Student();\n",
    "obj1.setName(\"mkyong\");\n",
    "obj1.addBook(\"Java 8 in Action\");\n",
    "obj1.addBook(\"Spring Boot in Action\");\n",
    "obj1.addBook(\"Effective Java (2nd Edition)\");\n",
    "\n",
    "Student obj2 = new Student();\n",
    "obj2.setName(\"zilap\");\n",
    "obj2.addBook(\"Learning Python, 5th Edition\");\n",
    "obj2.addBook(\"Effective Java (2nd Edition)\");\n",
    "\n",
    "List<Student> list = new ArrayList<>();\n",
    "list.add(obj1);\n",
    "list.add(obj2);\n",
    "\n",
    "List<String> collect =\n",
    "                list.stream()\n",
    "                .map(x -> x.getBook())      //Stream<Set<String>>\n",
    "                .flatMap(x -> x.stream())   //Stream<String>\n",
    "                .distinct()\n",
    "                .collect(Collectors.toList());\n",
    "\n",
    "collect.forEach(x -> System.out.println(x));"
   ]
  },
  {
   "cell_type": "code",
   "execution_count": 85,
   "metadata": {},
   "outputs": [
    {
     "name": "stdout",
     "output_type": "stream",
     "text": [
      "mkyong\n",
      "zilap\n"
     ]
    }
   ],
   "source": [
    "//Stream + sorted\n",
    "\n",
    "Student obj1 = new Student();\n",
    "obj1.setName(\"mkyong\");\n",
    "obj1.addBook(\"Java 8 in Action\");\n",
    "obj1.addBook(\"Spring Boot in Action\");\n",
    "obj1.addBook(\"Effective Java (2nd Edition)\");\n",
    "\n",
    "Student obj2 = new Student();\n",
    "obj2.setName(\"zilap\");\n",
    "obj2.addBook(\"Learning Python, 5th Edition\");\n",
    "obj2.addBook(\"Effective Java (2nd Edition)\");\n",
    "\n",
    "List<Student> list = new ArrayList<>();\n",
    "list.add(obj1);\n",
    "list.add(obj2);\n",
    "\n",
    "List<String> collect =\n",
    "                list.stream()\n",
    "                .sorted((p1, p2) -> p1.getName().compareTo(p2.getName())) // sorted by name\n",
    "                .map(x -> x.getName())      //Stream<String>\n",
    "                .collect(Collectors.toList());\n",
    "\n",
    "collect.forEach(x -> System.out.println(x));"
   ]
  },
  {
   "cell_type": "code",
   "execution_count": 70,
   "metadata": {},
   "outputs": [
    {
     "name": "stdout",
     "output_type": "stream",
     "text": [
      "1\n",
      "2\n",
      "3\n"
     ]
    }
   ],
   "source": [
    "//Stream + Primitive + flatMapToInt\n",
    "\n",
    "int[] intArray = {1, 2, 3, 4, 5, 6};\n",
    "\n",
    "//1. Stream<int[]>\n",
    "Stream<int[]> streamArray = Stream.of(intArray);\n",
    "\n",
    "//2. Stream<int[]> -> flatMap -> IntStream\n",
    "IntStream intStream = streamArray.flatMapToInt(x -> Arrays.stream(x));\n",
    "\n",
    "intStream.limit(3).forEach(x -> System.out.println(x));"
   ]
  },
  {
   "cell_type": "code",
   "execution_count": 80,
   "metadata": {},
   "outputs": [
    {
     "name": "stdout",
     "output_type": "stream",
     "text": [
      "-3.0\n"
     ]
    }
   ],
   "source": [
    "//reduce \n",
    "// 字符串连接，concat = \"ABCD\"\n",
    "String concat = Stream.of(\"A\", \"B\", \"C\", \"D\").reduce(\"\", String::concat); \n",
    "// 求最小值，minValue = -3.0\n",
    "double minValue = Stream.of(-1.5, 1.0, -3.0, -2.0).reduce(Double.MIN_VALUE, Double::min); \n",
    "System.out.println(minValue);\n",
    "// 求和，sumValue = 10, 有起始值\n",
    "int sumValue = Stream.of(1, 2, 3, 4).reduce(0, Integer::sum);\n",
    "// 求和，sumValue = 10, 无起始值\n",
    "sumValue = Stream.of(1, 2, 3, 4).reduce(Integer::sum).get();\n",
    "// 过滤，字符串连接，concat = \"ace\"\n",
    "concat = Stream.of(\"a\", \"B\", \"c\", \"D\", \"e\", \"F\").\n",
    " filter(x -> x.compareTo(\"Z\") > 0).\n",
    " reduce(\"\", String::concat);"
   ]
  },
  {
   "cell_type": "code",
   "execution_count": null,
   "metadata": {},
   "outputs": [],
   "source": []
  }
 ],
 "metadata": {
  "kernelspec": {
   "display_name": "Java",
   "language": "java",
   "name": "java"
  },
  "language_info": {
   "codemirror_mode": "java",
   "file_extension": ".jshell",
   "mimetype": "text/x-java-source",
   "name": "Java",
   "pygments_lexer": "java",
   "version": "11.0.3+7"
  }
 },
 "nbformat": 4,
 "nbformat_minor": 2
}
